{
 "cells": [
  {
   "cell_type": "markdown",
   "metadata": {},
   "source": [
    "# Project Description"
   ]
  },
  {
   "cell_type": "markdown",
   "metadata": {},
   "source": [
    "        For my project, I decided to make a random story generator. I drew my inspiration for the project from these two websites: \n",
    "          \n",
    "          https://markusurban.medium.com/how-to-make-a-random-story-generator-in-python-3373f285d149\n",
    "          https://code.sololearn.com/cchNaXRptdIw/  \n",
    "          \n",
    "          The introduction to the story, the protagonist, the conflict, the antagonist, the solution, and the ending are all randomly generated. To do this I created three functions. In each function I wrote a list of strings for every aspect I would need and assigned them to variables: the different introductions, main characters, enemies, problems, solutions, and endings. Then I combined the two variables in each function to create a third variable in which the beginning, middle, or end were randomly generated. At the very end of the script file, all three functions are combined and printed.\n",
    "          The first function is named beginning to illustrate that it will return the start of the story. The second function is named middle to illustrate that it will return the middle of the story containing the conflict. Lastly, my final function is named ending as it returns the final part of the story. When combining all three of my functions into a script file, they all work together in order to randomly generate a completed final story."
   ]
  },
  {
   "cell_type": "markdown",
   "metadata": {},
   "source": [
    "## Project Code\n",
    "\n",
    "If it makes sense for your project, you can have code and outputs here in the notebook as well."
   ]
  },
  {
   "cell_type": "code",
   "execution_count": 26,
   "metadata": {
    "scrolled": true
   },
   "outputs": [
    {
     "name": "stdout",
     "output_type": "stream",
     "text": [
      "As the sun set over the horizon, Mor faced a pressing issue. Erawan was trying to infest them with a demon from another world. They knew they had to act quick, so they grabbed the glass shard to their side, cut themselves free, and killed their enemy. As the fight ends, they realize that their lover has been killed, but they know they must continue to fight for their kingdom.\n"
     ]
    }
   ],
   "source": [
    "# Each of these cells will run a different story because each one is randomly generated.\n",
    "%run final_story_script.py "
   ]
  },
  {
   "cell_type": "code",
   "execution_count": 27,
   "metadata": {},
   "outputs": [
    {
     "name": "stdout",
     "output_type": "stream",
     "text": [
      "It was a dark and stormy night when Fenrys faced a pressing issue. The King of Adarlan was using them as an assassin to do their dirty work. They knew they were not alone, so they distracted their enemy while their friend snuck up behind and killed them. It was at that moment they were suddenly awakened by a firm shake, and they realized it had all been a dream.\n"
     ]
    }
   ],
   "source": [
    "%run final_story_script.py "
   ]
  },
  {
   "cell_type": "code",
   "execution_count": 28,
   "metadata": {
    "scrolled": true
   },
   "outputs": [
    {
     "name": "stdout",
     "output_type": "stream",
     "text": [
      "Defaulting to user installation because normal site-packages is not writeable\n",
      "Requirement already satisfied: pytest in /opt/conda/lib/python3.7/site-packages (6.1.2)\n",
      "Requirement already satisfied: iniconfig in /opt/conda/lib/python3.7/site-packages (from pytest) (1.1.1)\n",
      "Requirement already satisfied: packaging in /opt/conda/lib/python3.7/site-packages (from pytest) (20.4)\n",
      "Requirement already satisfied: toml in /opt/conda/lib/python3.7/site-packages (from pytest) (0.10.2)\n",
      "Requirement already satisfied: pluggy<1.0,>=0.12 in /opt/conda/lib/python3.7/site-packages (from pytest) (0.13.1)\n",
      "Requirement already satisfied: importlib-metadata>=0.12; python_version < \"3.8\" in /opt/conda/lib/python3.7/site-packages (from pytest) (1.6.1)\n",
      "Requirement already satisfied: py>=1.8.2 in /opt/conda/lib/python3.7/site-packages (from pytest) (1.9.0)\n",
      "Requirement already satisfied: attrs>=17.4.0 in /opt/conda/lib/python3.7/site-packages (from pytest) (19.3.0)\n",
      "Requirement already satisfied: pyparsing>=2.0.2 in /opt/conda/lib/python3.7/site-packages (from packaging->pytest) (2.4.7)\n",
      "Requirement already satisfied: six in /opt/conda/lib/python3.7/site-packages (from packaging->pytest) (1.15.0)\n",
      "Requirement already satisfied: zipp>=0.5 in /opt/conda/lib/python3.7/site-packages (from importlib-metadata>=0.12; python_version < \"3.8\"->pytest) (3.1.0)\n",
      "\u001b[33mWARNING: You are using pip version 20.2.4; however, version 20.3.1 is available.\n",
      "You should consider upgrading via the '/opt/conda/bin/python3.7 -m pip install --upgrade pip' command.\u001b[0m\n",
      "\u001b[1m============================= test session starts ==============================\u001b[0m\n",
      "platform linux -- Python 3.7.6, pytest-6.1.2, py-1.9.0, pluggy-0.13.1\n",
      "rootdir: /home/sahmad/FinalProject\n",
      "collected 3 items                                                              \u001b[0m\n",
      "\n",
      "test_functions.py \u001b[32m.\u001b[0m\u001b[32m.\u001b[0m\u001b[32m.\u001b[0m\u001b[32m                                                    [100%]\u001b[0m\n",
      "\n",
      "\u001b[32m============================== \u001b[32m\u001b[1m3 passed\u001b[0m\u001b[32m in 0.01s\u001b[0m\u001b[32m ===============================\u001b[0m\n"
     ]
    }
   ],
   "source": [
    "!pip install pytest\n",
    "\n",
    "!pytest test_functions.py"
   ]
  },
  {
   "cell_type": "markdown",
   "metadata": {},
   "source": [
    "#### Extra Credit (*optional*)\n",
    "\n",
    "1. I have absolutely no experience with Python, and I have no experience with coding in general.\n",
    "2. I believed that I challenged myself with this project because I took an idea that came from Exam 2 (the random joke generator) and molded it into something new where I added more options than what I would think would be necessary. Although my project itself may not have gone above and beyond, I do believe that my effort went above and beyond. I came up with a multitude of introductions, problems, solutions, and endings, and I believe that it was more than what was needed. I also had to figure out how to combine my pre-written strings into functions to make it a story, which proved a little difficult with my limited experience."
   ]
  }
 ],
 "metadata": {
  "kernelspec": {
   "display_name": "Python 3",
   "language": "python",
   "name": "python3"
  },
  "language_info": {
   "codemirror_mode": {
    "name": "ipython",
    "version": 3
   },
   "file_extension": ".py",
   "mimetype": "text/x-python",
   "name": "python",
   "nbconvert_exporter": "python",
   "pygments_lexer": "ipython3",
   "version": "3.7.6"
  }
 },
 "nbformat": 4,
 "nbformat_minor": 2
}
